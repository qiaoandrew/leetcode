{
 "cells": [
  {
   "cell_type": "markdown",
   "metadata": {},
   "source": [
    "Monotonic: Always increasing or always decreasing<br>\n",
    "Monotonic stack is regular stack, but before pushing new element, check if adding it breaks monotonic condition<br>\n",
    "If so, pop top elements until new element no longer breaks condition"
   ]
  },
  {
   "cell_type": "code",
   "execution_count": 1,
   "metadata": {},
   "outputs": [],
   "source": [
    "def mono_stack(entries):\n",
    "    stack = []\n",
    "    for entry in entries:\n",
    "        while stack and stack[-1] <= entry:\n",
    "            stack.pop()\n",
    "        stack.append(entry)\n",
    "    return stack"
   ]
  },
  {
   "cell_type": "markdown",
   "metadata": {},
   "source": [
    "In real problems, often store index of element instead of value<br>\n",
    "Indices in monostack are always increasing, values are either monotonically increasing or decreasing"
   ]
  },
  {
   "cell_type": "markdown",
   "metadata": {},
   "source": [
    "### Applications\n",
    "1. Next largest or smallest element in list<br>\n",
    "If other conditions, such as only within a range, can use deque and pop from end of deque if range is exceeded\n",
    "2. Maximum or minium element in sliding window<br>"
   ]
  }
 ],
 "metadata": {
  "kernelspec": {
   "display_name": "base",
   "language": "python",
   "name": "python3"
  },
  "language_info": {
   "codemirror_mode": {
    "name": "ipython",
    "version": 3
   },
   "file_extension": ".py",
   "mimetype": "text/x-python",
   "name": "python",
   "nbconvert_exporter": "python",
   "pygments_lexer": "ipython3",
   "version": "3.9.12"
  },
  "orig_nbformat": 4
 },
 "nbformat": 4,
 "nbformat_minor": 2
}
