{
 "cells": [
  {
   "cell_type": "markdown",
   "metadata": {},
   "source": [
    "Split main problem into two smaller components<br>\n",
    "Assume each component has already been solved recursively, then solve bigger problem using solutiosn of two smaller components<br>"
   ]
  },
  {
   "cell_type": "markdown",
   "metadata": {},
   "source": [
    "### Merge sort\n",
    "- Divide array into 2 components\n",
    "- Recursively apply merge sort on each component and assume they are already sorted\n",
    "- Use pointer on each sorted array to merge components"
   ]
  },
  {
   "cell_type": "code",
   "execution_count": null,
   "metadata": {},
   "outputs": [],
   "source": [
    "def mergesort(arr):\n",
    "    # base case\n",
    "    if len(arr) < 2:\n",
    "        return arr\n",
    "    # split into two components, assume they are sorted recursively\n",
    "    mid = len(arr) // 2\n",
    "    left = mergesort(arr[:mid])\n",
    "    right = mergesort(arr[mid:])\n",
    "    # combine two components to get final result\n",
    "    l, r, result = 0, 0, []\n",
    "    while l < len(left) or r < len(right):\n",
    "        if l >= len(left) or (r < len(right) and left[l] > right[r]):\n",
    "            result.append(right[r])\n",
    "            r += 1\n",
    "        else:\n",
    "            result.append(left[l])\n",
    "            l += 1\n",
    "    return result"
   ]
  }
 ],
 "metadata": {
  "kernelspec": {
   "display_name": "base",
   "language": "python",
   "name": "python3"
  },
  "language_info": {
   "name": "python",
   "version": "3.9.12"
  },
  "orig_nbformat": 4
 },
 "nbformat": 4,
 "nbformat_minor": 2
}
