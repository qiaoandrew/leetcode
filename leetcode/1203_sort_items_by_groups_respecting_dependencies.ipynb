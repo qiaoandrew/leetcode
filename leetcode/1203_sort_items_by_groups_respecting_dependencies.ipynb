{
 "cells": [
  {
   "cell_type": "markdown",
   "metadata": {},
   "source": [
    "## Topological Sort\n",
    "### Intuition\n",
    "Topological sort: Arrange set of nodes with directed edges in linear order such that for every directed edge `(u, v)`, `u` appears before `v`\n",
    "1. Identify nodes with indegree = 0, place them at beginning of ordering\n",
    "2. Decrement indegree for each node that depends on the node with indegree = 0, if the new indegree = 0, add them to the array of nodes to be processed\n",
    "3. Continue until all nodes placed in final order\n",
    "4. If number of visited noes is less than total nodes, indicates cycle in graph"
   ]
  },
  {
   "cell_type": "markdown",
   "metadata": {},
   "source": [
    "For this problem, there is variation of topological sort. Directed edges are described by `beforeItems`, but additional requirement that nodes with same group must be next to each other. "
   ]
  },
  {
   "cell_type": "markdown",
   "metadata": {},
   "source": [
    "During sorting process, if one node belongs to group `i`, implies that we also have dependencies with all nodes in group `i`."
   ]
  },
  {
   "cell_type": "markdown",
   "metadata": {},
   "source": [
    "During topological sorting, gather all nodes belonging to same group and ensure relative order based on dependencies. Do this by using two levels of sorting.\n",
    "- Sort groups based on group dependencies\n",
    "- Sort items within each group according to item dependencies\n",
    "\n",
    "Consider items not belonging to any group as separate groups of a single item."
   ]
  },
  {
   "cell_type": "markdown",
   "metadata": {},
   "source": [
    "### Algorithm\n",
    "1. Initialize `group_id` as `m`. Iterate over each item `i`, if it doesn't belong to a group, assign unique group id `group_id` and increment `group_id` by 1.\n",
    "2. Create adjacency map `item_graph` for all items and `group_graph` for all groups. Also create indegree list `item_indegree` and `group_indegree`.\n",
    "3. Traverse `before_items`, add dependency pairs `(prev, cur)` into `item_graph`, increment indegree `cur` by 1. If items belong to different groups `group[prev]` and `group[cur]`, add group dependency to `group_graph` and increment indegree of `group[cur]` by 1\n",
    "4. Perfrom topological sort of items according to `item_graph` and `item_indegree`. If there is cycle, task is impossible.\n",
    "5. Perform topological sort of groups based on `group_graph` and `group_indegree`. If there is cycle, task is impossible.\n",
    "6. Create empty list `answer` to store final order and hash map `ordered_groups` to store sorted items within each group.\n",
    "7. Iterate over sorted items, for each item `i`, add it to `ordered_groups` while preserving original order within group: `ordered_groups[group[i]].append(i)`\n",
    "8. Traverse sorted groups, for each group `group_idx`, add all items items `order_groups[group_index]` to `answer` while maintaining original order"
   ]
  },
  {
   "cell_type": "code",
   "execution_count": 3,
   "metadata": {},
   "outputs": [],
   "source": [
    "from typing import List\n",
    "from collections import defaultdict\n",
    "\n",
    "class Solution:\n",
    "    def sort_items(self, n: int, m: int, group: List[int], before_items: List[List[int]]) -> List[int]:\n",
    "        group_id = m\n",
    "        for i in range(n):\n",
    "            if group[i] == -1:\n",
    "                group[i] = group_id\n",
    "                group_id += 1\n",
    "        \n",
    "        item_graph = [[] for _ in range(n)]\n",
    "        item_indegrees = [0] * n\n",
    "        group_graph = [[] for _ in range(group_id)]\n",
    "        group_indegrees = [0] * group_id\n",
    "\n",
    "        for item, dependencies in enumerate(before_items):\n",
    "            for dependency in dependencies:\n",
    "                item_graph[dependency].append(item)\n",
    "                item_indegrees[item] += 1\n",
    "                if group[item] != group[dependency]:\n",
    "                    group_graph[group[dependency]].append(group[item])\n",
    "                    group_indegrees[group[item]] += 1\n",
    "        \n",
    "        def topological_sort(graph, indegrees):\n",
    "            order = []\n",
    "            stack = [node for node in range(len(graph)) if indegrees[node] == 0]\n",
    "            while stack:\n",
    "                cur = stack.pop()\n",
    "                order.append(cur)\n",
    "                for neighbor in graph[cur]:\n",
    "                    indegrees[neighbor] -= 1\n",
    "                    if indegrees[neighbor] == 0:\n",
    "                        stack.append(neighbor)\n",
    "            return order if len(order) == len(graph) else []\n",
    "        \n",
    "        item_order = topological_sort(item_graph, item_indegrees)\n",
    "        group_order = topological_sort(group_graph, group_indegrees)\n",
    "\n",
    "        if not item_order or not group_order:\n",
    "            return []\n",
    "\n",
    "        ordered_groups = defaultdict(list)\n",
    "        for item in item_order:\n",
    "            ordered_groups[group[item]].append(item)\n",
    "\n",
    "        answer = []\n",
    "        for group_id in group_order:\n",
    "            answer += ordered_groups[group_id]\n",
    "        return answer"
   ]
  },
  {
   "cell_type": "code",
   "execution_count": null,
   "metadata": {},
   "outputs": [],
   "source": []
  }
 ],
 "metadata": {
  "kernelspec": {
   "display_name": "base",
   "language": "python",
   "name": "python3"
  },
  "language_info": {
   "codemirror_mode": {
    "name": "ipython",
    "version": 3
   },
   "file_extension": ".py",
   "mimetype": "text/x-python",
   "name": "python",
   "nbconvert_exporter": "python",
   "pygments_lexer": "ipython3",
   "version": "3.9.12"
  },
  "orig_nbformat": 4
 },
 "nbformat": 4,
 "nbformat_minor": 2
}
