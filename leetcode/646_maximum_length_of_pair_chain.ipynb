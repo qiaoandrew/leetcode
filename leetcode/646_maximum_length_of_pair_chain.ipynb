{
 "cells": [
  {
   "cell_type": "markdown",
   "metadata": {},
   "source": [
    "## Bottom-Up DP"
   ]
  },
  {
   "cell_type": "code",
   "execution_count": 2,
   "metadata": {},
   "outputs": [],
   "source": [
    "def find_longest_chain(pairs):\n",
    "    n = len(pairs)\n",
    "    pairs.sort(key=lambda pair: pair[0])\n",
    "    dp = [1] * n\n",
    "    res = 1\n",
    "\n",
    "    for i in range(n - 1, -1, -1):\n",
    "        for j in range(i + 1, n):\n",
    "            if pairs[i][1] < pairs[j][0]:\n",
    "                dp[i] = max(dp[i], dp[j] + 1)\n",
    "        res = max(res, dp[i])\n",
    "    \n",
    "    return res"
   ]
  },
  {
   "cell_type": "markdown",
   "metadata": {},
   "source": [
    "## Top-Down DP"
   ]
  },
  {
   "cell_type": "code",
   "execution_count": 3,
   "metadata": {},
   "outputs": [],
   "source": [
    "def find_longest_chain(pairs):\n",
    "    n = len(pairs)\n",
    "    pairs.sort(key=lambda pair: pair[0])\n",
    "    memo = [0] * n\n",
    "\n",
    "    def longest_chain(i, pairs, n, memo):\n",
    "        if memo[i]:\n",
    "            return memo[i]\n",
    "        memo[i] = 1\n",
    "        for j in range(i + 1, n):\n",
    "            if pairs[i][1] < pairs[j][0]:\n",
    "                memo[i] = max(memo[i], 1 + longest_chain(j, pairs, n, memo))\n",
    "        return memo[i]\n",
    "\n",
    "    res = 0\n",
    "    for i in range(n):\n",
    "        res = max(res, longest_chain(i, pairs, n, memo))\n",
    "    return res"
   ]
  },
  {
   "cell_type": "markdown",
   "metadata": {},
   "source": [
    "## Greedy"
   ]
  },
  {
   "cell_type": "code",
   "execution_count": 5,
   "metadata": {},
   "outputs": [],
   "source": [
    "def find_longest_chain(pairs):\n",
    "    pairs.sort(key=lambda x: x[1])\n",
    "    cur_end = float('-inf')\n",
    "    res = 0\n",
    "\n",
    "    for pair in pairs:\n",
    "        if pair[0] > cur_end:\n",
    "            res += 1\n",
    "            cur_end = pair[1]\n",
    "    \n",
    "    return res"
   ]
  },
  {
   "cell_type": "code",
   "execution_count": null,
   "metadata": {},
   "outputs": [],
   "source": []
  }
 ],
 "metadata": {
  "kernelspec": {
   "display_name": "base",
   "language": "python",
   "name": "python3"
  },
  "language_info": {
   "codemirror_mode": {
    "name": "ipython",
    "version": 3
   },
   "file_extension": ".py",
   "mimetype": "text/x-python",
   "name": "python",
   "nbconvert_exporter": "python",
   "pygments_lexer": "ipython3",
   "version": "3.9.12"
  },
  "orig_nbformat": 4
 },
 "nbformat": 4,
 "nbformat_minor": 2
}
