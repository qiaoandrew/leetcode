{
 "cells": [
  {
   "cell_type": "markdown",
   "metadata": {},
   "source": [
    "### Bitwise Operations\n",
    "- `x &= x - 1` clears least significant bit.\n",
    "    - Ex: `40`, represented as `101000` becomes `100000`"
   ]
  },
  {
   "cell_type": "code",
   "execution_count": null,
   "metadata": {},
   "outputs": [],
   "source": [
    "class PopCountSolution:\n",
    "    def count_bits(n):\n",
    "        def pop_count(x):\n",
    "            count = 0\n",
    "            while x != 0:\n",
    "                x &= x - 1\n",
    "                count += 1\n",
    "            return count\n",
    "        \n",
    "        ans = [0] * (n + 1)\n",
    "        for x in range(n + 1):\n",
    "            ans[x] = pop_count(x)\n",
    "            \n",
    "        return ans"
   ]
  },
  {
   "cell_type": "code",
   "execution_count": 1,
   "metadata": {},
   "outputs": [],
   "source": [
    "class DP_Solution:\n",
    "    def count_bits(n):\n",
    "        dp = [0] * (n + 1)\n",
    "        offset = 1\n",
    "\n",
    "        for i in range(1, n + 1):\n",
    "            if offset * 2 == i:\n",
    "                offset = i\n",
    "            \n",
    "            dp[i] = 1 + dp[i - offset]\n",
    "        \n",
    "        return dp"
   ]
  },
  {
   "cell_type": "code",
   "execution_count": null,
   "metadata": {},
   "outputs": [],
   "source": []
  }
 ],
 "metadata": {
  "kernelspec": {
   "display_name": "base",
   "language": "python",
   "name": "python3"
  },
  "language_info": {
   "codemirror_mode": {
    "name": "ipython",
    "version": 3
   },
   "file_extension": ".py",
   "mimetype": "text/x-python",
   "name": "python",
   "nbconvert_exporter": "python",
   "pygments_lexer": "ipython3",
   "version": "3.9.12"
  },
  "orig_nbformat": 4
 },
 "nbformat": 4,
 "nbformat_minor": 2
}
