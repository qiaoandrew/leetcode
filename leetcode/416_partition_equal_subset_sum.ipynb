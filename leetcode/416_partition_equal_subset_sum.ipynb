{
 "cells": [
  {
   "cell_type": "markdown",
   "metadata": {},
   "source": [
    "## 1. Brute Force"
   ]
  },
  {
   "cell_type": "markdown",
   "metadata": {},
   "source": [
    "Generate all possible subsets, return true if subset with `subset_sum = total_sum / 2`"
   ]
  },
  {
   "cell_type": "code",
   "execution_count": 1,
   "metadata": {},
   "outputs": [],
   "source": [
    "def can_partition(nums):\n",
    "    def dfs(nums, n, subset_sum):\n",
    "        if subset_sum == 0:\n",
    "            return True\n",
    "        if n == 0 or subset_sum < 0:\n",
    "            return False\n",
    "        return dfs(nums, n - 1, subset_sum - nums[n - 1]) or dfs(nums, n - 1, subset_sum)\n",
    "    \n",
    "    total_sum = sum(nums)\n",
    "    if total_sum % 2 == 1:\n",
    "        return False\n",
    "    \n",
    "    subset_sum = total_sum // 2\n",
    "    return dfs(nums, len(nums) - 1, subset_sum)"
   ]
  },
  {
   "cell_type": "markdown",
   "metadata": {},
   "source": [
    "## 2. Top Down DP"
   ]
  },
  {
   "cell_type": "code",
   "execution_count": 2,
   "metadata": {},
   "outputs": [],
   "source": [
    "from functools import lru_cache\n",
    "\n",
    "def can_partition(nums):\n",
    "    @lru_cache(maxsize=None)\n",
    "    def dfs(nums, n, subset_sum):\n",
    "        if subset_sum == 0:\n",
    "            return True\n",
    "        if n == 0 or subset_sum < 0:\n",
    "            return False\n",
    "        return dfs(nums, n - 1, subset_sum - nums[n - 1]) or dfs(nums, n - 1, subset_sum)\n",
    "    \n",
    "    total_sum = sum(nums)\n",
    "    if total_sum % 2 == 1:\n",
    "        return False\n",
    "    subset_sum = total_sum // 2\n",
    "    \n",
    "    return dfs(tuple(nums), len(nums) - 1, subset_sum)"
   ]
  },
  {
   "cell_type": "markdown",
   "metadata": {},
   "source": [
    "## 3. Bottom Up DP\n",
    "### Algorithm\n",
    "`dp[n][subset_sum]` for element `i` and `cur_sum`"
   ]
  },
  {
   "cell_type": "markdown",
   "metadata": {},
   "source": [
    "`dp[i][cur_sum] == True` if `cur_sum` can be formed by `nums[0] ... nums[i]`\n",
    "- `dp[i - 1][cur_sum] == True`\n",
    "- `dp[i - 1][cur_sum - nums[i]] == True`"
   ]
  },
  {
   "cell_type": "code",
   "execution_count": 3,
   "metadata": {},
   "outputs": [],
   "source": [
    "def can_partition(nums):\n",
    "    total_sum = sum(nums)\n",
    "    if total_sum % 2 == 1:\n",
    "        return False\n",
    "    subset_sum = total_sum // 2\n",
    "    n = len(nums)\n",
    "\n",
    "    dp = [[False] * (subset_sum + 1) for _ in range(n + 1)]\n",
    "    dp[0][0] = True\n",
    "    for i in range(1, n + 1):\n",
    "        num = nums[i - 1]\n",
    "        for cur_sum in range(subset_sum + 1):\n",
    "            if cur_sum < num:\n",
    "                dp[i][cur_sum] = dp[i - 1][cur_sum]\n",
    "            else:\n",
    "                dp[i][cur_sum] = dp[i - 1][cur_sum] or dp[i - 1][cur_sum - num]\n",
    "    \n",
    "    return dp[n][subset_sum]"
   ]
  },
  {
   "cell_type": "markdown",
   "metadata": {},
   "source": [
    "## 4. Optimized Bottom Up DP "
   ]
  },
  {
   "cell_type": "code",
   "execution_count": null,
   "metadata": {},
   "outputs": [],
   "source": [
    "def can_partition(nums):\n",
    "    total_sum = sum(nums)\n",
    "    if total_sum % 2 == 1:\n",
    "        return False\n",
    "    subset_sum = total_sum // 2\n",
    "\n",
    "    dp = [False] * (subset_sum + 1)\n",
    "    dp[0] = True\n",
    "    for num in nums:\n",
    "        for cur_sum in range(subset_sum, num - 1, -1):\n",
    "            dp[cur_sum] = dp[cur_sum] or dp[cur_sum - num]\n",
    "    \n",
    "    return dp[subset_sum]"
   ]
  }
 ],
 "metadata": {
  "kernelspec": {
   "display_name": "base",
   "language": "python",
   "name": "python3"
  },
  "language_info": {
   "codemirror_mode": {
    "name": "ipython",
    "version": 3
   },
   "file_extension": ".py",
   "mimetype": "text/x-python",
   "name": "python",
   "nbconvert_exporter": "python",
   "pygments_lexer": "ipython3",
   "version": "3.9.12"
  },
  "orig_nbformat": 4
 },
 "nbformat": 4,
 "nbformat_minor": 2
}
