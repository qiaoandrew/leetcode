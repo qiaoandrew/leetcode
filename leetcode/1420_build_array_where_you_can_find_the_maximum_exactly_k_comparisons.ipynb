{
 "cells": [
  {
   "cell_type": "markdown",
   "metadata": {},
   "source": [
    "### Intuition\n",
    "- How many ways we can create an array of size `n` with elements in `[1, m]` such that going from left and right, `k` new maximums are found"
   ]
  },
  {
   "cell_type": "markdown",
   "metadata": {},
   "source": [
    "### Top-Down DP\n",
    "- Define `dp(i, max_so_far, remain)`\n",
    "- Base case if `i == n`, in that case return `1` if the remaining new maximums is 0\n",
    "- Current value starts at how many ways we can create a new array without changing the new maximum\n",
    "\t- Becomes `max_so_far * dp(i + 1, max_so_far, remain)`\n",
    "- Calculate how many ways to create array be changing new maximum\n",
    "\t- Loop through each new maximum, and add `dp(i + 1, new_max, remain - 1)`"
   ]
  },
  {
   "cell_type": "code",
   "execution_count": null,
   "metadata": {},
   "outputs": [],
   "source": [
    "from functools import cache\n",
    "\n",
    "class Solution:\n",
    "    def numOfArrays(self, n: int, m: int, k: int) -> int:\n",
    "        MOD = 10 ** 9 + 7\n",
    "\n",
    "        @cache\n",
    "        def dp(i, max_so_far, remain):\n",
    "            if i == n:\n",
    "                return 1 if remain == 0 else 0\n",
    "            \n",
    "            ans = (max_so_far * dp(i + 1, max_so_far, remain)) % MOD\n",
    "            for new_max in range(max_so_far + 1, m + 1):\n",
    "                ans = (ans + dp(i + 1, new_max, remain - 1)) % MOD\n",
    "            \n",
    "            return ans\n",
    "        \n",
    "        return dp(0, 0, k)"
   ]
  },
  {
   "cell_type": "markdown",
   "metadata": {},
   "source": [
    "### Bottom-Up DP\n",
    "- Define `dp[n + 1][m + 1][k + 1]`\n",
    "- Set base cases `dp[n][max_so_far][0] = 1`\n",
    "- Three nested loops: `i` in `[n - 1, 0]`, `max_so_far` in `[m, 0]`, `remain` in `[0, k]`\n",
    "- At each iteration, start `ans = max_so_far * dp[i + 1][max_so_far][remain]`, which is the current value if we don't change the maximum\n",
    "\t- If remaining new maxes is greater that `0`, add ways to create array with greater maximum\n",
    "\t- Loop through each new maximum and add `dp[i + 1][new_max][remain - 1]`"
   ]
  },
  {
   "cell_type": "code",
   "execution_count": null,
   "metadata": {},
   "outputs": [],
   "source": [
    "class Solution:\n",
    "    def numOfArrays(self, n: int, m: int, k: int) -> int:\n",
    "        MOD = 10 ** 9 + 7\n",
    "        dp = [[[0] * (k + 1) for _ in range(m + 1)] for __ in range(n + 1)]\n",
    "\n",
    "        for max_so_far in range(m + 1):\n",
    "            dp[n][max_so_far][0] = 1\n",
    "        \n",
    "        for i in range(n - 1, -1, -1):\n",
    "            for max_so_far in range(m, -1, -1):\n",
    "                for remain in range(k + 1):\n",
    "                    ans = (max_so_far * dp[i + 1][max_so_far][remain]) % MOD\n",
    "\n",
    "                    if remain > 0:\n",
    "                        for new_max in range(max_so_far + 1, m + 1):\n",
    "                            ans = (ans + dp[i + 1][new_max][remain - 1]) % MOD\n",
    "                    \n",
    "                    dp[i][max_so_far][remain] = ans\n",
    "        \n",
    "        return dp[0][0][k]"
   ]
  }
 ],
 "metadata": {
  "kernelspec": {
   "display_name": "base",
   "language": "python",
   "name": "python3"
  },
  "language_info": {
   "name": "python",
   "version": "3.9.12"
  },
  "orig_nbformat": 4
 },
 "nbformat": 4,
 "nbformat_minor": 2
}
