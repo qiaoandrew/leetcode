{
 "cells": [
  {
   "cell_type": "markdown",
   "metadata": {},
   "source": [
    "## DP"
   ]
  },
  {
   "cell_type": "code",
   "execution_count": 1,
   "metadata": {},
   "outputs": [],
   "source": [
    "def min_cost(costs):\n",
    "    for i in range(len(costs) - 2, -1, -1):\n",
    "        costs[i][0] += min(costs[i + 1][1], costs[i + 1][2])\n",
    "        costs[i][1] += min(costs[i + 1][0], costs[i + 1][2])\n",
    "        costs[i][2] += min(costs[i + 1][0], costs[i + 1][1])\n",
    "    \n",
    "    return min(costs[0])"
   ]
  },
  {
   "cell_type": "markdown",
   "metadata": {},
   "source": [
    "## Space Optimized DP"
   ]
  },
  {
   "cell_type": "code",
   "execution_count": null,
   "metadata": {},
   "outputs": [],
   "source": [
    "def min_cost(costs):\n",
    "    prev = costs[-1]\n",
    "    for i in range(len(costs) - 2, -1, -1):\n",
    "        cur = costs[i][:]\n",
    "        cur[0] += min(prev[1], prev[2])\n",
    "        cur[1] += min(prev[0], prev[2])\n",
    "        cur[2] += min(prev[0], prev[1])\n",
    "        prev = cur\n",
    "    return min(prev)"
   ]
  }
 ],
 "metadata": {
  "kernelspec": {
   "display_name": "base",
   "language": "python",
   "name": "python3"
  },
  "language_info": {
   "codemirror_mode": {
    "name": "ipython",
    "version": 3
   },
   "file_extension": ".py",
   "mimetype": "text/x-python",
   "name": "python",
   "nbconvert_exporter": "python",
   "pygments_lexer": "ipython3",
   "version": "3.9.12"
  },
  "orig_nbformat": 4
 },
 "nbformat": 4,
 "nbformat_minor": 2
}
