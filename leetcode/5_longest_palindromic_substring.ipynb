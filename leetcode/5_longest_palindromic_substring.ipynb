{
 "cells": [
  {
   "cell_type": "markdown",
   "metadata": {},
   "source": [
    "### Expand From Middle"
   ]
  },
  {
   "cell_type": "code",
   "execution_count": 3,
   "metadata": {},
   "outputs": [],
   "source": [
    "def longest_palindrome(s):\n",
    "    res = ''\n",
    "    res_len = 0\n",
    "\n",
    "    for i in range(len(s)):\n",
    "        start, end = i, i\n",
    "        while start >= 0 and end < len(s) and s[start] == s[end]:\n",
    "            if end - start + 1 > res_len:\n",
    "                res_len = end - start + 1\n",
    "                res = s[start:end + 1]\n",
    "            start -= 1\n",
    "            end += 1\n",
    "\n",
    "        start, end = i, i + 1\n",
    "        while start >= 0 and end < len(s) and s[start] == s[end]:\n",
    "            if end - start + 1 > res_len:\n",
    "                res_len = end - start + 1\n",
    "                res = s[start:end + 1]\n",
    "            start -= 1\n",
    "            end += 1\n",
    "\n",
    "    return res"
   ]
  },
  {
   "cell_type": "markdown",
   "metadata": {},
   "source": [
    "### DP"
   ]
  },
  {
   "cell_type": "code",
   "execution_count": 4,
   "metadata": {},
   "outputs": [],
   "source": [
    "def longest_palindrome(s):\n",
    "    n = len(s)\n",
    "    dp = [[False] * n for _ in range(n)]\n",
    "    ans = [0, 0]\n",
    "\n",
    "    for i in range(n):\n",
    "        dp[i][i] = True\n",
    "    \n",
    "    for i in range(n - 1):\n",
    "        if s[i] == s[i + 1]:\n",
    "            dp[i][i + 1] = True\n",
    "            ans = [i, i + 1]\n",
    "    \n",
    "    for diff in range(2, n):\n",
    "        for start in range(n - diff):\n",
    "            end = start + diff\n",
    "            if s[start] == s[end] and dp[start + 1][end - 1]:\n",
    "                dp[start][end] = True\n",
    "                ans = [start, end]\n",
    "    \n",
    "    start, end = ans\n",
    "    return s[start : end + 1]"
   ]
  }
 ],
 "metadata": {
  "kernelspec": {
   "display_name": "base",
   "language": "python",
   "name": "python3"
  },
  "language_info": {
   "codemirror_mode": {
    "name": "ipython",
    "version": 3
   },
   "file_extension": ".py",
   "mimetype": "text/x-python",
   "name": "python",
   "nbconvert_exporter": "python",
   "pygments_lexer": "ipython3",
   "version": "3.9.12"
  },
  "orig_nbformat": 4
 },
 "nbformat": 4,
 "nbformat_minor": 2
}
