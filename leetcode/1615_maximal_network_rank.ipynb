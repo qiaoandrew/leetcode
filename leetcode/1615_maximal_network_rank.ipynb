{
 "cells": [
  {
   "cell_type": "markdown",
   "metadata": {},
   "source": [
    "1. Create an adjacency list for the graph\n",
    "2. Loop thru each node 0 to n - 1, loop thru their neighbors and find pair with max indegree sum\n",
    "3. Remember to subtract 1 from the sum"
   ]
  },
  {
   "cell_type": "code",
   "execution_count": 15,
   "metadata": {},
   "outputs": [],
   "source": [
    "from collections import defaultdict\n",
    "\n",
    "def maximal_network_rank(n, roads):\n",
    "    adjacency_list = defaultdict(set)\n",
    "    for city1, city2 in roads:\n",
    "        adjacency_list[city1].add(city2)\n",
    "        adjacency_list[city2].add(city1)\n",
    "    \n",
    "    res = 0\n",
    "    for city1 in range(n - 1):\n",
    "        for city2 in range(city1 + 1, n):\n",
    "            res = max(res, len(adjacency_list[city1]) + len(adjacency_list[city2]) - (1 if city2 in adjacency_list[city1] else 0))\n",
    "    \n",
    "    return res"
   ]
  },
  {
   "cell_type": "code",
   "execution_count": 16,
   "metadata": {},
   "outputs": [
    {
     "data": {
      "text/plain": [
       "4"
      ]
     },
     "execution_count": 16,
     "metadata": {},
     "output_type": "execute_result"
    }
   ],
   "source": [
    "maximal_network_rank(4, [[0,1],[0,3],[1,2],[1,3]])"
   ]
  },
  {
   "cell_type": "code",
   "execution_count": 17,
   "metadata": {},
   "outputs": [
    {
     "data": {
      "text/plain": [
       "5"
      ]
     },
     "execution_count": 17,
     "metadata": {},
     "output_type": "execute_result"
    }
   ],
   "source": [
    "maximal_network_rank(5, [[0,1],[0,3],[1,2],[1,3],[2,3],[2,4]])"
   ]
  },
  {
   "cell_type": "code",
   "execution_count": 18,
   "metadata": {},
   "outputs": [
    {
     "data": {
      "text/plain": [
       "5"
      ]
     },
     "execution_count": 18,
     "metadata": {},
     "output_type": "execute_result"
    }
   ],
   "source": [
    "maximal_network_rank(8, [[0,1],[1,2],[2,3],[2,4],[5,6],[5,7]])"
   ]
  },
  {
   "cell_type": "code",
   "execution_count": null,
   "metadata": {},
   "outputs": [],
   "source": []
  }
 ],
 "metadata": {
  "kernelspec": {
   "display_name": "base",
   "language": "python",
   "name": "python3"
  },
  "language_info": {
   "codemirror_mode": {
    "name": "ipython",
    "version": 3
   },
   "file_extension": ".py",
   "mimetype": "text/x-python",
   "name": "python",
   "nbconvert_exporter": "python",
   "pygments_lexer": "ipython3",
   "version": "3.9.12"
  },
  "orig_nbformat": 4
 },
 "nbformat": 4,
 "nbformat_minor": 2
}
