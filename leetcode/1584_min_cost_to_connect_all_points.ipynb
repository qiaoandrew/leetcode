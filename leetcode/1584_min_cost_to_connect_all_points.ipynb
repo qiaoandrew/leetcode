{
 "cells": [
  {
   "cell_type": "markdown",
   "metadata": {},
   "source": [
    "## Kruskal's Algorithm\n",
    "- Greedy algorithm for building minimum spanning tree in weighted and undirected graph\n",
    "- Works by identifying lowest-weighted edge not part of the MST\n",
    "- If node belongs to unconnected edges, edge added to MST\n",
    "- Process repeated until all nodes are connected. Since edges not added if nodes are already connected, no cycles are formed."
   ]
  },
  {
   "cell_type": "markdown",
   "metadata": {},
   "source": [
    "1. Sort all edges in increasing order of weight to prioritize adding lowest-weighted edges first\n",
    "2. Add edges until all nodes are connected, use union-find to determine if including edge will form cycle or not"
   ]
  },
  {
   "cell_type": "code",
   "execution_count": null,
   "metadata": {},
   "outputs": [],
   "source": [
    "from typing import List\n",
    "import heapq\n",
    "\n",
    "class UnionFind:\n",
    "    def __init__(self, size):\n",
    "        self.rank = [0] * size\n",
    "        self.root = [node for node in range(size)]\n",
    "    \n",
    "    def find(self, node):\n",
    "        if self.root[node] == node:\n",
    "            return node\n",
    "        \n",
    "        self.root[node] = self.find(self.root[node])\n",
    "        return self.root[node]\n",
    "    \n",
    "    def union(self, node1, node2):\n",
    "        root1, root2 = self.find(node1), self.find(node2)\n",
    "\n",
    "        if root1 == root2:\n",
    "            return\n",
    "        \n",
    "        if self.rank[root1] > self.rank[root2]:\n",
    "            self.root[root2] = root1\n",
    "        elif self.rank[root1] < self.rank[root2]:\n",
    "            self.root[root1] = root2\n",
    "        else:\n",
    "            self.root[root1] = root2\n",
    "            self.rank[root2] += 1\n",
    "    \n",
    "    def are_connected(self, node1, node2):\n",
    "        return self.find(node1) == self.find(node2)\n",
    "\n",
    "\n",
    "class Solution:\n",
    "    def minCostConnectPoints(self, points: List[List[int]]) -> int:\n",
    "        n = len(points)\n",
    "        heap = []\n",
    "\n",
    "        for node1 in range(n - 1):\n",
    "            x1, y1 = points[node1]\n",
    "            for node2 in range(node1 + 1, n):\n",
    "                x2, y2 = points[node2]\n",
    "                cost = abs(x1 - x2) + abs(y1 - y2)\n",
    "                heapq.heappush(heap, (cost, node1, node2))\n",
    "        \n",
    "        min_cost = 0\n",
    "        edges_needed = n - 1\n",
    "        union_find = UnionFind(n)\n",
    "\n",
    "        while heap and edges_needed:\n",
    "            cost, node1, node2 = heapq.heappop(heap)\n",
    "\n",
    "            if not union_find.are_connected(node1, node2):\n",
    "                min_cost += cost\n",
    "                edges_needed -= 1\n",
    "                union_find.union(node1, node2)\n",
    "        \n",
    "        return min_cost"
   ]
  },
  {
   "cell_type": "markdown",
   "metadata": {},
   "source": [
    "## Prim's Algorithm\n",
    "- Greedy algorithm for building MST in weighted and undirected graph\n",
    "- Include arbitrary node in MST and keep adding lowest-weighted edges of nodes until al are included and no cycles are formed"
   ]
  },
  {
   "cell_type": "markdown",
   "metadata": {},
   "source": [
    "1. Pick any node to start\n",
    "2. Use min-heap to store edge weights\n",
    "3. Use visited set to record nodes already present\n",
    "4. Choose lowest-weighted edge connecting a node present in MST to node not present in MST"
   ]
  },
  {
   "cell_type": "code",
   "execution_count": null,
   "metadata": {},
   "outputs": [],
   "source": [
    "from typing import List\n",
    "import heapq\n",
    "\n",
    "def get_cost(point1, point2):\n",
    "    return abs(point1[0] - point2[0]) + abs(point1[1] - point2[1])\n",
    "\n",
    "class Solution:\n",
    "    def min_cost_connect_points(self, points: List[List[int]]) -> int:\n",
    "        heap = []\n",
    "        visited = set([0])\n",
    "        min_cost = 0\n",
    "        edges_needed = len(points) - 1\n",
    "\n",
    "        for i in range(1, len(points)):\n",
    "            heapq.heappush(heap, (get_cost(points[0], points[i]), i))\n",
    "        \n",
    "        while heap and edges_needed:\n",
    "            cost, node = heapq.heappop(heap)\n",
    "            if node in visited:\n",
    "                continue\n",
    "            \n",
    "            edges_needed -= 1\n",
    "            min_cost += cost\n",
    "            visited.add(node)\n",
    "            for i in range(len(points)):\n",
    "                if i not in visited and i != node:\n",
    "                    heapq.heappush(heap, (get_cost(points[node], points[i]), i))\n",
    "        \n",
    "        return min_cost"
   ]
  }
 ],
 "metadata": {
  "language_info": {
   "name": "python"
  },
  "orig_nbformat": 4
 },
 "nbformat": 4,
 "nbformat_minor": 2
}
