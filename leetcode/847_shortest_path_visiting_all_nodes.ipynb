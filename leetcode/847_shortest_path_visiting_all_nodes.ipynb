{
 "cells": [
  {
   "cell_type": "markdown",
   "metadata": {},
   "source": [
    "## Top-Down DP\n",
    "- State is current node and visited nodes\n",
    "- Visited nodes represented using bitmask\n",
    "    - If $i^{th}$ bit of integer from right side is set to `1`, means node `i` has been visited\n",
    "    - To set node as visited, left shift 1 and XOR with current number\n",
    "    - To check if node has been visited, do same thing but do AND instead\n",
    "\n",
    "![Alt text](image.png)\n",
    "\n"
   ]
  },
  {
   "cell_type": "code",
   "execution_count": null,
   "metadata": {},
   "outputs": [],
   "source": [
    "from typing import List\n",
    "\n",
    "class Solution:\n",
    "    def shortestPathLength(self, graph: List[List[int]]) -> int:\n",
    "        def dp(node, mask):\n",
    "            state = (node, mask)\n",
    "            if state in cache:\n",
    "                return cache[state]\n",
    "            \n",
    "            if mask & (mask - 1) == 0:\n",
    "                return 0\n",
    "            \n",
    "            cache[state] = float('inf')\n",
    "            for neighbor in graph[node]:\n",
    "                if mask & (1 << neighbor):\n",
    "                    already_visited = 1 + dp(neighbor, mask)\n",
    "                    not_visited = 1 + dp(neighbor, mask ^ (1 << node))\n",
    "                    cache[state] = min(cache[state], already_visited, not_visited)\n",
    "            \n",
    "            return cache[state]\n",
    "\n",
    "        n = len(graph)\n",
    "        ending_mask = (1 << n) - 1\n",
    "        cache = {}\n",
    "\n",
    "        return min(dp(node, ending_mask) for node in range(n))"
   ]
  }
 ],
 "metadata": {
  "kernelspec": {
   "display_name": "base",
   "language": "python",
   "name": "python3"
  },
  "language_info": {
   "name": "python",
   "version": "3.9.12"
  },
  "orig_nbformat": 4
 },
 "nbformat": 4,
 "nbformat_minor": 2
}
