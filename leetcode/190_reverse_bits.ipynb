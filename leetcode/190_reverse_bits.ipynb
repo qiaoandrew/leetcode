{
 "cells": [
  {
   "cell_type": "markdown",
   "metadata": {},
   "source": [
    "### Bitwise Operations\n",
    "- `n & 1` determines if last digit of binary number `n` is a 1\n",
    "- `<<` bitshifts to the left\n",
    "- Together, `res += (n & 1) << power` takes the last digit of `n` and shifts it `power` times to the left"
   ]
  },
  {
   "cell_type": "code",
   "execution_count": null,
   "metadata": {},
   "outputs": [],
   "source": [
    "def reverse_bits(n):\n",
    "    res = 0\n",
    "    power = 31\n",
    "\n",
    "    while n > 0:\n",
    "        res += (n & 1) << power\n",
    "        n >>= 1\n",
    "        power -= 1\n",
    "\n",
    "    return res\n",
    "\n",
    "\n",
    "reverse_bits(43261596)"
   ]
  }
 ],
 "metadata": {
  "kernelspec": {
   "display_name": "base",
   "language": "python",
   "name": "python3"
  },
  "language_info": {
   "codemirror_mode": {
    "name": "ipython",
    "version": 3
   },
   "file_extension": ".py",
   "mimetype": "text/x-python",
   "name": "python",
   "nbconvert_exporter": "python",
   "pygments_lexer": "ipython3",
   "version": "3.9.12"
  },
  "orig_nbformat": 4
 },
 "nbformat": 4,
 "nbformat_minor": 2
}
