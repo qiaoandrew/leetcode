{
 "cells": [
  {
   "cell_type": "markdown",
   "metadata": {},
   "source": [
    "## Brute Force"
   ]
  },
  {
   "cell_type": "code",
   "execution_count": 3,
   "metadata": {},
   "outputs": [],
   "source": [
    "from typing import List\n",
    "\n",
    "class Solution:\n",
    "    def candy(self, ratings: List[int]) -> int:\n",
    "        candies = [1] * len(ratings)\n",
    "\n",
    "        has_changed = True\n",
    "        while has_changed:\n",
    "            has_changed = False\n",
    "            for i in range(len(ratings)):\n",
    "                if i > 0 and ratings[i] > ratings[i - 1] and candies[i] <= candies[i - 1]:\n",
    "                    candies[i] = candies[i - 1] + 1\n",
    "                    has_changed = True\n",
    "                \n",
    "                if i < len(ratings) - 1 and ratings[i] > ratings[i + 1] and candies[i] <= candies[i + 1]:\n",
    "                    candies[i] = candies[i + 1] + 1\n",
    "                    has_changed = True\n",
    "        \n",
    "        return sum(candies)"
   ]
  },
  {
   "cell_type": "markdown",
   "metadata": {},
   "source": [
    "## Two Arrays"
   ]
  },
  {
   "cell_type": "code",
   "execution_count": 4,
   "metadata": {},
   "outputs": [],
   "source": [
    "class Solution:\n",
    "    def candy(self, ratings: List[int]) -> int:\n",
    "        left_to_right = [1] * len(ratings)\n",
    "        right_to_left = [1] * len(ratings)\n",
    "\n",
    "        for i in range(1, len(ratings)):\n",
    "            if ratings[i] > ratings[i - 1]:\n",
    "                left_to_right[i] = left_to_right[i - 1] + 1\n",
    "            \n",
    "        for i in range(len(ratings) - 2, -1, -1):\n",
    "            if ratings[i] > ratings[i + 1]:\n",
    "                right_to_left[i] = right_to_left[i + 1] + 1\n",
    "        \n",
    "        res = 0\n",
    "        for i in range(len(ratings)):\n",
    "            res += max(left_to_right[i], right_to_left[i])\n",
    "        \n",
    "        return res"
   ]
  },
  {
   "cell_type": "markdown",
   "metadata": {},
   "source": [
    "## One Array"
   ]
  },
  {
   "cell_type": "code",
   "execution_count": 5,
   "metadata": {},
   "outputs": [],
   "source": [
    "class Solution:\n",
    "    def candy(self, ratings: List[int]) -> int:\n",
    "        candies = [1] * len(ratings)\n",
    "\n",
    "        for i in range(1, len(ratings)):\n",
    "            if ratings[i] > ratings[i - 1]:\n",
    "                candies[i] = candies[i - 1] + 1\n",
    "            \n",
    "        for i in range(len(ratings) - 2, -1, -1):\n",
    "            if ratings[i] > ratings[i + 1]:\n",
    "                candies[i] = max(candies[i], candies[i + 1] + 1)\n",
    "        \n",
    "        return sum(candies)"
   ]
  },
  {
   "cell_type": "code",
   "execution_count": null,
   "metadata": {},
   "outputs": [],
   "source": []
  }
 ],
 "metadata": {
  "kernelspec": {
   "display_name": "base",
   "language": "python",
   "name": "python3"
  },
  "language_info": {
   "codemirror_mode": {
    "name": "ipython",
    "version": 3
   },
   "file_extension": ".py",
   "mimetype": "text/x-python",
   "name": "python",
   "nbconvert_exporter": "python",
   "pygments_lexer": "ipython3",
   "version": "3.9.12"
  },
  "orig_nbformat": 4
 },
 "nbformat": 4,
 "nbformat_minor": 2
}
