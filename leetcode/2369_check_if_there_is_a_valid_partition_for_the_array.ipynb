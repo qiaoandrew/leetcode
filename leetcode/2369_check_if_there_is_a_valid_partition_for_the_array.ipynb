{
 "cells": [
  {
   "cell_type": "markdown",
   "metadata": {},
   "source": [
    "### Top-Down DP\n",
    "#### Intuition\n",
    "`prefix_is_valid(i)` checks whether valid partition exists for prefix subarray `nums[0:i + 1]`. `prefix_is_valid(n - 1)` represents if there is valid partition for whole array."
   ]
  },
  {
   "cell_type": "markdown",
   "metadata": {},
   "source": [
    "To determine `prefix_is_valid(i)` at every `i`, three possibilities and one base case to check\n",
    "- Base case: If `i < 0`, then `prefix_is_valid(i)` is true, denotes empty subarray has valid partition\n",
    "1. If last two elements are equal, if `prefix_is_valid(i - 2)` is true, `prefix_is_valid(i)` is also true\n",
    "2. If last three elements are equal, if `prefix_is_valid(i - 3)` is true, `prefix_is_valid(i)` is also true\n",
    "3. If last three elements for subarray of three consecutive increasing elements, if `prefix_is_valid(i - 3)`, `prefix_is_valid(i)` is also true"
   ]
  },
  {
   "cell_type": "markdown",
   "metadata": {},
   "source": [
    "#### Algorithm\n",
    "1. Init hash map `memo`, set `memo[-1] = True` since empty array always has valid partition\n",
    "2. Define `prefix_is_valid(i)`\n",
    "    - If `i` in `memo`, return `memo[i]`\n",
    "    - Start `ans = False`\n",
    "    - If `i > 0` and last two elements equal, update `ans |= prefix_is_valid(i - 2)`\n",
    "    - If `i > 1` and last three elements equal, update `ans |= prefix_is_valid(i - 3)`\n",
    "    - If `i > 1` and last three elements are consecutive increasing, `ans |= prefix_is_valid(i - 3)`\n",
    "    - Set `memo[i] = ans` and return `ans`\n",
    "3. Return `prefix_is_valid(n - 1)`"
   ]
  },
  {
   "cell_type": "code",
   "execution_count": 1,
   "metadata": {},
   "outputs": [],
   "source": [
    "def valid_partition(nums):\n",
    "    def prefix_is_valid(end_idx):\n",
    "        if end_idx in memo:\n",
    "            return memo[end_idx]\n",
    "        \n",
    "        ans = False\n",
    "\n",
    "        if end_idx > 0 and nums[end_idx] == nums[end_idx - 1]:\n",
    "            ans |= prefix_is_valid(end_idx - 2)\n",
    "        if end_idx > 1 and nums[end_idx] == nums[end_idx - 1] == nums[end_idx - 2]:\n",
    "            ans |= prefix_is_valid(end_idx - 3)\n",
    "        if end_idx > 1 and nums[end_idx] == nums[end_idx - 1] + 1 == nums[end_idx - 2] + 2:\n",
    "            ans |= prefix_is_valid(end_idx - 3)\n",
    "        \n",
    "        memo[end_idx] = ans\n",
    "        return memo[end_idx]\n",
    "\n",
    "    memo = { -1: True }\n",
    "    return prefix_is_valid(len(nums) - 1)"
   ]
  },
  {
   "cell_type": "markdown",
   "metadata": {},
   "source": [
    "### Bottom-Up DP"
   ]
  },
  {
   "cell_type": "code",
   "execution_count": 2,
   "metadata": {},
   "outputs": [],
   "source": [
    "def valid_partition(nums):\n",
    "    dp = [False] * (len(nums) + 1)\n",
    "    dp[0] = True\n",
    "\n",
    "    for dp_idx in range(1, len(dp)):\n",
    "        end_idx = dp_idx - 1\n",
    "        if end_idx > 0 and nums[end_idx] == nums[end_idx - 1]:\n",
    "            dp[dp_idx] |= dp[dp_idx - 2]\n",
    "        if end_idx > 1 and nums[end_idx] == nums[end_idx - 1] == nums[end_idx - 2]:\n",
    "            dp[dp_idx] |= dp[dp_idx - 3]\n",
    "        if end_idx > 1 and nums[end_idx] == nums[end_idx - 1] + 1 == nums[end_idx - 2] + 2:\n",
    "            dp[dp_idx] |= dp[dp_idx - 3]\n",
    "    \n",
    "    return dp[-1]"
   ]
  },
  {
   "cell_type": "markdown",
   "metadata": {},
   "source": [
    "### Bottom-Up DP with Space Optimization"
   ]
  },
  {
   "cell_type": "code",
   "execution_count": null,
   "metadata": {},
   "outputs": [],
   "source": [
    "def valid_partition(nums):\n",
    "    dp = [True, False, False]\n",
    "    \n",
    "    for dp_idx in range(1, len(nums) + 1):\n",
    "        end_idx = dp_idx - 1\n",
    "        ans = False\n",
    "        if end_idx > 0 and nums[end_idx] == nums[end_idx - 1]:\n",
    "            ans |= dp[(dp_idx - 2) % 3]\n",
    "        if end_idx > 1 and nums[end_idx] == nums[end_idx - 1] == nums[end_idx - 2]:\n",
    "            ans |= dp[(dp_idx - 3) % 3]\n",
    "        if end_idx > 1 and nums[end_idx] == nums[end_idx - 1] + 1 == nums[end_idx - 2] + 2:\n",
    "            ans |= dp[(dp_idx - 3) % 3]\n",
    "        dp[dp_idx % 3] = ans\n",
    "    \n",
    "    return dp[(len(nums)) % 3]"
   ]
  }
 ],
 "metadata": {
  "kernelspec": {
   "display_name": "base",
   "language": "python",
   "name": "python3"
  },
  "language_info": {
   "codemirror_mode": {
    "name": "ipython",
    "version": 3
   },
   "file_extension": ".py",
   "mimetype": "text/x-python",
   "name": "python",
   "nbconvert_exporter": "python",
   "pygments_lexer": "ipython3",
   "version": "3.9.12"
  },
  "orig_nbformat": 4
 },
 "nbformat": 4,
 "nbformat_minor": 2
}
