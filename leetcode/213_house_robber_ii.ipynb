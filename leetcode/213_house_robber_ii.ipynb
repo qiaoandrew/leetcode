{
 "cells": [
  {
   "cell_type": "markdown",
   "metadata": {},
   "source": [
    "### Intuition\n",
    "Do House Robber from first to second last and second to last."
   ]
  },
  {
   "cell_type": "code",
   "execution_count": null,
   "metadata": {},
   "outputs": [],
   "source": [
    "def rob(nums):\n",
    "    if len(nums) == 1:\n",
    "        return nums[0]\n",
    "    \n",
    "    def simple_rob(start_idx, end_idx):\n",
    "        if start_idx == end_idx:\n",
    "            return nums[start_idx]\n",
    "        dp = [0] * (end_idx - start_idx + 1)\n",
    "        dp[0], dp[1] = nums[start_idx], max(nums[start_idx], nums[start_idx + 1])\n",
    "        for i in range(2, len(dp)):\n",
    "            dp[i] = max(dp[i - 1], dp[i - 2] + nums[start_idx + i])\n",
    "        \n",
    "        return dp[-1]\n",
    "\n",
    "    return max(simple_rob(0, len(nums) - 2), simple_rob(1, len(nums) - 1))"
   ]
  },
  {
   "cell_type": "code",
   "execution_count": null,
   "metadata": {},
   "outputs": [],
   "source": [
    "def rob(nums):\n",
    "    if len(nums) == 1:\n",
    "        return nums[0]\n",
    "\n",
    "    def simple_rob(start, end):\n",
    "        if start == end:\n",
    "            return nums[start]\n",
    "        rob1, rob2 = nums[start], max(nums[start], nums[start + 1])\n",
    "        for i in range(2, end - start + 1):\n",
    "            rob1, rob2 = rob2, max(rob1 + nums[start + i], rob2)\n",
    "        return rob2\n",
    "    \n",
    "    return max(simple_rob(0, len(nums) - 2), simple_rob(1, len(nums) - 1))"
   ]
  }
 ],
 "metadata": {
  "kernelspec": {
   "display_name": "base",
   "language": "python",
   "name": "python3"
  },
  "language_info": {
   "name": "python",
   "version": "3.9.12"
  },
  "orig_nbformat": 4
 },
 "nbformat": 4,
 "nbformat_minor": 2
}
