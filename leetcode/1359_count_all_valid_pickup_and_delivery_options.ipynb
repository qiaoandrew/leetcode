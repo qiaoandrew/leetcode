{
 "cells": [
  {
   "cell_type": "markdown",
   "metadata": {},
   "source": [
    "## Backtracking (TLE)"
   ]
  },
  {
   "cell_type": "code",
   "execution_count": 2,
   "metadata": {},
   "outputs": [],
   "source": [
    "class Solution:\n",
    "    def countOrders(self, n: int) -> int:\n",
    "        pickups = set([i for i in range(n)])\n",
    "        deliveries = set([i for i in range(n)])\n",
    "        picked = set()\n",
    "        cur = []\n",
    "        count = 0\n",
    "\n",
    "        def backtrack():\n",
    "            nonlocal count\n",
    "            if len(cur) == n * 2:\n",
    "                count += 1\n",
    "                return\n",
    "\n",
    "            for pickup in list(pickups):\n",
    "                pickups.remove(pickup)\n",
    "                picked.add(pickup)\n",
    "                cur.append(pickup)\n",
    "                backtrack()\n",
    "                cur.pop()\n",
    "                picked.remove(pickup)\n",
    "                pickups.add(pickup)\n",
    "\n",
    "            for delivery in list(deliveries):\n",
    "                if delivery in picked:\n",
    "                    deliveries.remove(delivery)\n",
    "                    picked.remove(delivery)\n",
    "                    cur.append(delivery)\n",
    "                    backtrack()\n",
    "                    cur.pop()\n",
    "                    picked.add(delivery)\n",
    "                    deliveries.add(delivery)\n",
    "\n",
    "        backtrack()\n",
    "        return count"
   ]
  },
  {
   "cell_type": "markdown",
   "metadata": {},
   "source": [
    "## Top-Down DP\n",
    "- Let's say we have `unpicked` orders and `undelivered` orders\n",
    "- If we want to pick one order, there are `unpicked` choices\n",
    "    `ways_to_pick = unpicked * total_ways(unpicked - 1, undelivered)`\n",
    "- If we want to deliver one order, there are `undelivered - unpicked` choices\n",
    "    `ways_to_deliver = (undelivered - unpicked) * total_ways(unpicked, undelivered - 1)`"
   ]
  },
  {
   "cell_type": "code",
   "execution_count": 3,
   "metadata": {},
   "outputs": [],
   "source": [
    "from functools import cache\n",
    "\n",
    "MOD = 1_000_000_007\n",
    "\n",
    "class Solution:\n",
    "    def countOrders(self, n: int) -> int:\n",
    "        @cache\n",
    "        def total_ways(unpicked, undelivered):\n",
    "            if unpicked == undelivered == 0:\n",
    "                return 1\n",
    "            if undelivered < unpicked or unpicked < 0 or undelivered < 0:\n",
    "                return 0\n",
    "            \n",
    "            ans = unpicked * total_ways(unpicked - 1, undelivered)\n",
    "            ans %= MOD\n",
    "            ans += (undelivered - unpicked) * total_ways(unpicked, undelivered - 1)\n",
    "            ans %= MOD\n",
    "\n",
    "            return ans\n",
    "        \n",
    "        return total_ways(n, n)"
   ]
  },
  {
   "cell_type": "markdown",
   "metadata": {},
   "source": [
    "## Bottom Up DP"
   ]
  },
  {
   "cell_type": "code",
   "execution_count": 4,
   "metadata": {},
   "outputs": [],
   "source": [
    "MOD = 1_000_000_007\n",
    "\n",
    "class Solution:\n",
    "    def countOrders(self, n: int) -> int:\n",
    "        dp = [[0] * (n + 1) for _ in range(n + 1)]\n",
    "        dp[0][0] = 1\n",
    "\n",
    "        for unpicked in range(n + 1):\n",
    "            for undelivered in range(unpicked, n + 1):\n",
    "                if unpicked == undelivered == 0:\n",
    "                    continue\n",
    "                \n",
    "                if unpicked > 0:\n",
    "                    dp[unpicked][undelivered] += unpicked * dp[unpicked - 1][undelivered]\n",
    "                dp[unpicked][undelivered] %= MOD\n",
    "\n",
    "                if undelivered > unpicked:\n",
    "                    dp[unpicked][undelivered] += (undelivered - unpicked) * dp[unpicked][undelivered - 1]\n",
    "                dp[unpicked][undelivered] %= MOD\n",
    "        \n",
    "        return dp[-1][-1]"
   ]
  },
  {
   "cell_type": "markdown",
   "metadata": {},
   "source": [
    "## Permutations\n",
    "- We have $2N$ empty positions and we need to count all ways to place $P_i$ and $D_i$ such that all $D_i$ is placed after $R_i$\n",
    "- First place $N$ pickups in random order, $N!$ ways\n",
    "- Start placing delivery\n",
    "    - For last pickup, 1 possible spot\n",
    "    - For second last, 3 possible spots\n",
    "    - For third last, 5 possible spots\n",
    "    - For fourth last, 7 possible spots\n",
    "    - Number of ways to place deliveries is $1⋅3⋅5⋅7$\n",
    "- Formula is $N!∗{∏}_{i=1}^N(2∗i−1)$"
   ]
  },
  {
   "cell_type": "code",
   "execution_count": 5,
   "metadata": {},
   "outputs": [],
   "source": [
    "MOD = 1_000_000_007\n",
    "\n",
    "class Solution:\n",
    "    def countOrders(self, n: int) -> int:\n",
    "        ans = 1\n",
    "\n",
    "        for i in range(1, n + 1):\n",
    "            ans *= i\n",
    "            ans *= (2 * i - 1)\n",
    "            ans %= MOD\n",
    "        \n",
    "        return ans"
   ]
  },
  {
   "cell_type": "markdown",
   "metadata": {},
   "source": [
    "## Probability\n",
    "- Number of arrangements of N orders in a valid sequence = P(Arranging N orders in a valid sequence) * (Total number of possible arrangements with N orders)\n",
    "- Each pair has $1/2$ chance of being in corret order, so probability of arranging $N$ pairs correctly is $1/2^N$\n",
    "- Total number of arrangements is $(2N)!$\n",
    "- Formula is $(2N)!/2^N$"
   ]
  },
  {
   "cell_type": "code",
   "execution_count": 6,
   "metadata": {},
   "outputs": [],
   "source": [
    "MOD = 1_000_000_007\n",
    "\n",
    "class Solution:\n",
    "    def countOrders(self, n: int) -> int:\n",
    "        ans = 1\n",
    "\n",
    "        for i in range(1, 2 * n + 1):\n",
    "            ans *= i\n",
    "            if i % 2 == 0:\n",
    "                ans //= 2\n",
    "            ans %= MOD\n",
    "        \n",
    "        return ans"
   ]
  },
  {
   "cell_type": "code",
   "execution_count": null,
   "metadata": {},
   "outputs": [],
   "source": []
  }
 ],
 "metadata": {
  "kernelspec": {
   "display_name": "base",
   "language": "python",
   "name": "python3"
  },
  "language_info": {
   "codemirror_mode": {
    "name": "ipython",
    "version": 3
   },
   "file_extension": ".py",
   "mimetype": "text/x-python",
   "name": "python",
   "nbconvert_exporter": "python",
   "pygments_lexer": "ipython3",
   "version": "3.9.12"
  },
  "orig_nbformat": 4
 },
 "nbformat": 4,
 "nbformat_minor": 2
}
