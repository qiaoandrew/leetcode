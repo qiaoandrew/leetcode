{
 "cells": [
  {
   "cell_type": "markdown",
   "metadata": {},
   "source": [
    "## Greedy\n",
    "1. Use `max_reach` array to determine the maximum reach of each tap\n",
    "2. Declare variables `taps`, `cur_end` (how far the current taps can reach), `next_end` (next furthest position that can be reached)\n",
    "3. Iterate from `0` to `n`\n",
    "    a. If `i > next_end` then next position can't be reached and return `-1`\n",
    "    b. If `i > cur_end` then need new tap ending at position `next_end`\n",
    "        - Increment `taps`\n",
    "        - Set `cur_end` to `next_end`\n",
    "    c. update `next_end` with `max_reach[i]` if it is larger\n",
    "4. Return `taps`"
   ]
  },
  {
   "cell_type": "code",
   "execution_count": null,
   "metadata": {},
   "outputs": [],
   "source": [
    "from typing import List\n",
    "\n",
    "class Solution:\n",
    "    def minTaps(self, n: int, ranges: List[int]) -> int:\n",
    "        max_reach = [0] * (n + 1)\n",
    "\n",
    "        for i in range(len(ranges)):\n",
    "            start = max(0, i - ranges[i])\n",
    "            end = min(n, i + ranges[i])\n",
    "            max_reach[start] = max(max_reach[start], end)\n",
    "        \n",
    "        taps = 0\n",
    "        cur_end = 0\n",
    "        next_end = 0\n",
    "\n",
    "        for i in range(n + 1):\n",
    "            if i > next_end:\n",
    "                return -1\n",
    "            \n",
    "            if i > cur_end:\n",
    "                taps += 1\n",
    "                cur_end = next_end\n",
    "            \n",
    "            next_end = max(next_end, max_reach[i])\n",
    "        \n",
    "        return taps"
   ]
  }
 ],
 "metadata": {
  "kernelspec": {
   "display_name": "base",
   "language": "python",
   "name": "python3"
  },
  "language_info": {
   "codemirror_mode": {
    "name": "ipython",
    "version": 3
   },
   "file_extension": ".py",
   "mimetype": "text/x-python",
   "name": "python",
   "nbconvert_exporter": "python",
   "pygments_lexer": "ipython3",
   "version": "3.9.12"
  },
  "orig_nbformat": 4
 },
 "nbformat": 4,
 "nbformat_minor": 2
}
