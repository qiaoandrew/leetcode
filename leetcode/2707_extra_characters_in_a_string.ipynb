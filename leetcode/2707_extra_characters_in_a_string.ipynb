{
 "cells": [
  {
   "cell_type": "markdown",
   "metadata": {},
   "source": [
    "## Top Down DP Substring Method\n",
    "- Recursive function `dp()` that takes `start` index\n",
    "- Returns min extra characters needed to form concatenation of words from `start`\n",
    "- Recurrence relation\n",
    "    - `start == n` means we are at end of `s`, function returns `0`\n",
    "    - `ans` starts at `dp(start + 1) + 1`, case where cur character is not part of any valid word\n",
    "    - Iterate over all possible end indices, if `s[start : end + 1]` is a word in `dictionary_set`, set `ans` to `dp(end + 1)` if it is smaller"
   ]
  },
  {
   "cell_type": "code",
   "execution_count": 1,
   "metadata": {},
   "outputs": [],
   "source": [
    "from functools import cache\n",
    "\n",
    "def min_extra_char(s, dictionary):\n",
    "    n, dictionary_set = len(s), set(dictionary)\n",
    "\n",
    "    @cache\n",
    "    def dp(start):\n",
    "        if start == n:\n",
    "            return 0\n",
    "        \n",
    "        ans = dp(start + 1) + 1\n",
    "        for end in range(start, n):\n",
    "            cur = s[start : end + 1]\n",
    "            if cur in dictionary_set:\n",
    "                ans = min(ans, dp(end + 1))\n",
    "\n",
    "        return ans\n",
    "    \n",
    "    return dp(0)"
   ]
  },
  {
   "cell_type": "markdown",
   "metadata": {},
   "source": [
    "## Bottom Up DP Substring Method"
   ]
  },
  {
   "cell_type": "code",
   "execution_count": 2,
   "metadata": {},
   "outputs": [],
   "source": [
    "def min_extra_char(s, dictionary):\n",
    "    n = len(s)\n",
    "    dictionary_set = set(dictionary)\n",
    "\n",
    "    dp = [0] * (len(s) + 1)\n",
    "    for start in range(n - 1, -1, -1):\n",
    "        dp[start] = dp[start + 1] + 1\n",
    "        for end in range(start, n):\n",
    "            cur = s[start : end + 1]\n",
    "            if cur in dictionary_set:\n",
    "                dp[start] = min(dp[start], dp[end + 1])\n",
    "    \n",
    "    return dp[0]"
   ]
  },
  {
   "cell_type": "markdown",
   "metadata": {},
   "source": [
    "## Top Down DP Trie Method\n",
    "- Build trie from dictionary\n",
    "- Same as substring method, but use trie instead"
   ]
  },
  {
   "cell_type": "code",
   "execution_count": 3,
   "metadata": {},
   "outputs": [],
   "source": [
    "from typing import List\n",
    "\n",
    "class TrieNode:\n",
    "    def __init__(self):\n",
    "        self.children = {}\n",
    "        self.is_end = False\n",
    "\n",
    "def min_extra_char(s: str, dictionary: List[str]) -> int:\n",
    "    def build_trie(dictionary):\n",
    "        root = TrieNode()\n",
    "        for word in dictionary:\n",
    "            node = root\n",
    "            for char in word:\n",
    "                if char not in node.children:\n",
    "                    node.children[char] = TrieNode()\n",
    "                node = node.children[char]\n",
    "            node.is_end = True\n",
    "        return root\n",
    "\n",
    "    n = len(s)\n",
    "    root = build_trie(dictionary)\n",
    "\n",
    "    @cache\n",
    "    def dp(start):\n",
    "        if start == n:\n",
    "            return 0\n",
    "        \n",
    "        ans = dp(start + 1) + 1\n",
    "        node = root\n",
    "        for end in range(start, n):\n",
    "            if s[end] not in node.children:\n",
    "                break\n",
    "            node = node.children[s[end]]\n",
    "            if node.is_end:\n",
    "                ans = min(ans, dp(end + 1))\n",
    "        return ans\n",
    "    \n",
    "    return dp(0)"
   ]
  },
  {
   "cell_type": "markdown",
   "metadata": {},
   "source": [
    "## Bottom Up DP Trie Method"
   ]
  },
  {
   "cell_type": "code",
   "execution_count": null,
   "metadata": {},
   "outputs": [],
   "source": [
    "from typing import List\n",
    "\n",
    "class TrieNode:\n",
    "    def __init__(self):\n",
    "        self.children = {}\n",
    "        self.is_end = False\n",
    "\n",
    "def min_extra_char(s: str, dictionary: List[str]) -> int:\n",
    "    def build_trie(dictionary):\n",
    "        root = TrieNode()\n",
    "        for word in dictionary:\n",
    "            node = root\n",
    "            for char in word:\n",
    "                if char not in node.children:\n",
    "                    node.children[char] = TrieNode()\n",
    "                node = node.children[char]\n",
    "            node.is_end = True\n",
    "        return root\n",
    "\n",
    "    n = len(s)\n",
    "    root = build_trie(dictionary)\n",
    "\n",
    "    dp = [0] * (len(s) + 1)\n",
    "    for start in range(n - 1, -1, -1):\n",
    "        dp[start] = dp[start + 1] + 1\n",
    "        node = root\n",
    "        for end in range(start, n):\n",
    "            if s[end] not in node.children:\n",
    "                break\n",
    "            node = node.children[s[end]]\n",
    "            if node.is_end:\n",
    "                dp[start] = min(dp[start], dp[end + 1])\n",
    "    \n",
    "    return dp[0]\n",
    "\n",
    "    "
   ]
  }
 ],
 "metadata": {
  "kernelspec": {
   "display_name": "base",
   "language": "python",
   "name": "python3"
  },
  "language_info": {
   "codemirror_mode": {
    "name": "ipython",
    "version": 3
   },
   "file_extension": ".py",
   "mimetype": "text/x-python",
   "name": "python",
   "nbconvert_exporter": "python",
   "pygments_lexer": "ipython3",
   "version": "3.9.12"
  },
  "orig_nbformat": 4
 },
 "nbformat": 4,
 "nbformat_minor": 2
}
