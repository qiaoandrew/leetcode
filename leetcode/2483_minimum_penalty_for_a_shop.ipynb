{
 "cells": [
  {
   "cell_type": "markdown",
   "metadata": {},
   "source": [
    "## Two Passes\n",
    "1. Start penalty as the number of Y\n",
    "2. Start earliest_hour at 0\n",
    "3. Loop through each hour\n",
    "    a. Decrement penalty if cur is Y\n",
    "    b. Increment penalty if cur is N\n",
    "    c. If cur_penalty is smaller than min_penalty, update earliest_hour and min_penalty\n",
    "4. Return earliest_hour"
   ]
  },
  {
   "cell_type": "code",
   "execution_count": 1,
   "metadata": {},
   "outputs": [],
   "source": [
    "def best_closing_time(customers):\n",
    "    cur_penalty = min_penalty = customers.count('Y')\n",
    "    earliest_hour = 0\n",
    "\n",
    "    for i, ch in enumerate(customers):\n",
    "        if ch == 'Y':\n",
    "            cur_penalty -= 1\n",
    "        else:\n",
    "            cur_penalty += 1\n",
    "        \n",
    "        if cur_penalty < min_penalty:\n",
    "            earliest_hour = i + 1\n",
    "            min_penalty = cur_penalty\n",
    "    \n",
    "    return earliest_hour"
   ]
  },
  {
   "cell_type": "markdown",
   "metadata": {},
   "source": [
    "## One Pass\n",
    "- Notice we don't need actual penalty values\n",
    "- Problem requires earliest hour with lowest penalty, so only thing that matters is penalty of hours reltaive to each other, initial reference point does not matter"
   ]
  },
  {
   "cell_type": "code",
   "execution_count": null,
   "metadata": {},
   "outputs": [],
   "source": [
    "def bestClosingTime(customers):\n",
    "    cur_penalty = 0\n",
    "    min_penalty = 0\n",
    "    earliest_hour = 0\n",
    "\n",
    "    for i, ch in enumerate(customers):\n",
    "        if ch == 'Y':\n",
    "            cur_penalty -= 1\n",
    "        else:\n",
    "            cur_penalty += 1\n",
    "        \n",
    "        if cur_penalty < min_penalty:\n",
    "            earliest_hour = i + 1\n",
    "            min_penalty = cur_penalty\n",
    "\n",
    "    return earliest_hour"
   ]
  }
 ],
 "metadata": {
  "kernelspec": {
   "display_name": "base",
   "language": "python",
   "name": "python3"
  },
  "language_info": {
   "codemirror_mode": {
    "name": "ipython",
    "version": 3
   },
   "file_extension": ".py",
   "mimetype": "text/x-python",
   "name": "python",
   "nbconvert_exporter": "python",
   "pygments_lexer": "ipython3",
   "version": "3.9.12"
  },
  "orig_nbformat": 4
 },
 "nbformat": 4,
 "nbformat_minor": 2
}
