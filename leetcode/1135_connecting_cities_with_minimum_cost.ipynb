{
 "cells": [
  {
   "cell_type": "markdown",
   "metadata": {},
   "source": [
    "## Kruskal's Algorithm\n",
    "1. Order connections in increasing order using a heap\n",
    "2. Continuously take edge with not connected nodes and smallest cost until there are n - 1 edges, using union find to keep of disjoint sets\n",
    "3. If there are no more edges, but n - 1 edges are not reached, return -1"
   ]
  },
  {
   "cell_type": "code",
   "execution_count": null,
   "metadata": {},
   "outputs": [],
   "source": [
    "from collections import heapq\n",
    "\n",
    "class UnionFind:\n",
    "    def __init__(self, size):\n",
    "        self.root = [i for i in range(size)]\n",
    "        self.rank = [1] * size\n",
    "    \n",
    "    def find(self, node):\n",
    "        if self.root[node] == node:\n",
    "            return node\n",
    "        self.root[node] = self.find(self.root[node])\n",
    "        return self.root[node]\n",
    "    \n",
    "    def union(self, node1, node2):\n",
    "        root1 = self.find(node1)\n",
    "        root2 = self.find(node2)\n",
    "\n",
    "        if root1 == root2:\n",
    "            return False\n",
    "        \n",
    "        if self.rank[root1] > self.rank[root2]:\n",
    "            self.root[root2] = root1\n",
    "        elif self.rank[root2] > self.rank[root1]:\n",
    "            self.root[root1] = root2\n",
    "        else:\n",
    "            self.root[root2] = root1\n",
    "            self.rank[root1] += 1\n",
    "        \n",
    "        return True\n",
    "\n",
    "def minimum_cost(n, connections):\n",
    "    heap = []\n",
    "    for node1, node2, cost in connections:\n",
    "        heap.append((cost, node1, node2))\n",
    "    heapq.heapify(heap)\n",
    "\n",
    "    total_cost = 0\n",
    "    union_find = UnionFind(n + 1)\n",
    "    edges_needed = n - 1\n",
    "\n",
    "    while heap and edges_needed > 0:\n",
    "        cost, node1, node2 = heapq.heappop(heap)\n",
    "        if union_find.union(node1, node2):\n",
    "            total_cost += cost\n",
    "            edges_needed -= 1\n",
    "    \n",
    "    return total_cost if edges_needed == 0 else -1"
   ]
  }
 ],
 "metadata": {
  "language_info": {
   "name": "python"
  },
  "orig_nbformat": 4
 },
 "nbformat": 4,
 "nbformat_minor": 2
}
