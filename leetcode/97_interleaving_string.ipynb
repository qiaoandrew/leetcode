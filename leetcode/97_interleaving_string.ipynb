{
 "cells": [
  {
   "cell_type": "markdown",
   "metadata": {},
   "source": [
    "## 2D DP\n",
    "- `dp[p1][p2]` is boolean representing if `s3[p1 + p2 - 1]` can be made using `s1[:p1]` and `s2[:p2]`"
   ]
  },
  {
   "cell_type": "code",
   "execution_count": 2,
   "metadata": {},
   "outputs": [],
   "source": [
    "def is_interleave(s1: str, s2: str, s3: str) -> bool:\n",
    "    if len(s3) != len(s1) + len(s2):\n",
    "        return False\n",
    "    \n",
    "    dp = [[False] * (len(s2) + 1) for _ in range(len(s1) + 1)]\n",
    "    for p1 in range(len(s1) + 1):\n",
    "        for p2 in range(len(s2) + 1):\n",
    "            if p1 == p2 == 0:\n",
    "                dp[p1][p2] = True\n",
    "            elif p1 == 0:\n",
    "                dp[p1][p2] = dp[p1][p2 - 1] and s2[p2 - 1] == s3[p1 + p2 - 1]\n",
    "            elif p2 == 0:\n",
    "                dp[p1][p2] = dp[p1 - 1][p2] and s1[p1 - 1] == s3[p1 + p2 - 1]\n",
    "            else:\n",
    "                dp[p1][p2] = (dp[p1 - 1][p2] and s1[p1 - 1] == s3[p1 + p2 - 1]) or (dp[p1][p2 - 1] and s2[p2 - 1] == s3[p1 + p2 - 1])\n",
    "    \n",
    "    return dp[-1][-1]"
   ]
  },
  {
   "cell_type": "markdown",
   "metadata": {},
   "source": [
    "## 1D DP\n",
    "-  `dp[p2]` represents if `s1[:p1]` and `s2[:p2]` can be interleaved to form `s3[p1 + p2 - 1]`"
   ]
  },
  {
   "cell_type": "code",
   "execution_count": null,
   "metadata": {},
   "outputs": [],
   "source": [
    "def is_interleave(s1, s2, s3):\n",
    "    if len(s3) != len(s1) + len(s2):\n",
    "        return False\n",
    "    \n",
    "    dp = [False] * (len(s2) + 1)\n",
    "    for p1 in range(len(s1) + 1):\n",
    "        for p2 in range(len(s2) + 1):\n",
    "            if p1 == p2 == 0:\n",
    "                dp[p2] = True\n",
    "            elif p1 == 0:\n",
    "                dp[p2] = dp[p2 - 1] and s2[p2 - 1] == s3[p1 + p2 - 1]\n",
    "            elif p2 == 0:\n",
    "                dp[p2] = dp[p2] and s1[p1 - 1] == s3[p1 + p2 - 1]\n",
    "            else:\n",
    "                dp[p2] = (dp[p2] and s1[p1 - 1] == s3[p1 + p2 - 1]) or (dp[p2 - 1] and s2[p2 - 1] == s3[p1 + p2 - 1])\n",
    "    return dp[-1]"
   ]
  }
 ],
 "metadata": {
  "kernelspec": {
   "display_name": "base",
   "language": "python",
   "name": "python3"
  },
  "language_info": {
   "codemirror_mode": {
    "name": "ipython",
    "version": 3
   },
   "file_extension": ".py",
   "mimetype": "text/x-python",
   "name": "python",
   "nbconvert_exporter": "python",
   "pygments_lexer": "ipython3",
   "version": "3.9.12"
  },
  "orig_nbformat": 4
 },
 "nbformat": 4,
 "nbformat_minor": 2
}
