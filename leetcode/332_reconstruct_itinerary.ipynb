{
 "cells": [
  {
   "cell_type": "markdown",
   "metadata": {},
   "source": [
    "1. Sort tickets in reverse order, add each pair into a defaultdict\n",
    "2. DFS function with airport parameter\n",
    "    - While there are neighbours, pop the lexicographically smallest neighbour and call DFS on it\n",
    "    - Append the current airport to the itinerary\n",
    "3. Call DFS on JFK to start\n",
    "4. Return the reverse of the itinerary"
   ]
  },
  {
   "cell_type": "code",
   "execution_count": null,
   "metadata": {},
   "outputs": [],
   "source": [
    "from collections import defaultdict\n",
    "\n",
    "def find_itinerary(tickets):\n",
    "    from_to = defaultdict(list)\n",
    "\n",
    "    for first, second in sorted(tickets, reverse=True):\n",
    "        from_to[first].append(second)\n",
    "\n",
    "    def dfs(airport):\n",
    "        while from_to[airport]:\n",
    "            dfs(from_to[airport].pop())\n",
    "        \n",
    "        itinerary.append(airport)\n",
    "\n",
    "    itinerary = []\n",
    "    dfs(\"JFK\")\n",
    "    \n",
    "    return itinerary[::-1]"
   ]
  }
 ],
 "metadata": {
  "kernelspec": {
   "display_name": "base",
   "language": "python",
   "name": "python3"
  },
  "language_info": {
   "codemirror_mode": {
    "name": "ipython",
    "version": 3
   },
   "file_extension": ".py",
   "mimetype": "text/x-python",
   "name": "python",
   "nbconvert_exporter": "python",
   "pygments_lexer": "ipython3",
   "version": "3.9.12"
  },
  "orig_nbformat": 4
 },
 "nbformat": 4,
 "nbformat_minor": 2
}
