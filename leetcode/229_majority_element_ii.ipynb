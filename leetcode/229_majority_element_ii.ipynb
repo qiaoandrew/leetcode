{
 "cells": [
  {
   "cell_type": "markdown",
   "metadata": {},
   "source": [
    "## Boyer-Moore Voting Algorithm\n",
    "- At most one majority element more than $⌊n/2⌋$ times\n",
    "- At most two majority elements more than $⌊n/3⌋$ times\n",
    "- At most three majority elements more than $⌊n/4⌋$ times"
   ]
  },
  {
   "cell_type": "markdown",
   "metadata": {},
   "source": [
    "- For this question, it would mean we only need 2 variables to keep track of candidates and 2 variables to keep track of count\n",
    "- If current element is equal to a potential candidate, count for that candidate is increased and the other stays as is\n",
    "- If counter reaches 0, candidate associated with that counter will be replaced with next element if next element is not equal to other candidate\n",
    "- Both counters decremented when current element is different from both candidates"
   ]
  },
  {
   "cell_type": "code",
   "execution_count": 3,
   "metadata": {},
   "outputs": [],
   "source": [
    "from typing import List\n",
    "\n",
    "class Solution:\n",
    "    def majorityElement(self, nums: List[int]) -> List[int]:\n",
    "        count1, count2, candidate1, candidate2 = 0, 0, None, None\n",
    "\n",
    "        for num in nums:\n",
    "            if candidate1 == num:\n",
    "                count1 += 1\n",
    "            elif candidate2 == num:\n",
    "                count2 += 1\n",
    "            elif count1 == 0:\n",
    "                candidate1 = num\n",
    "                count1 += 1\n",
    "            elif count2 == 0:\n",
    "                candidate2 = num\n",
    "                count2 += 1\n",
    "            else:\n",
    "                count1 -= 1\n",
    "                count2 -= 1\n",
    "        \n",
    "        res = []\n",
    "        for candidate in [candidate1, candidate2]:\n",
    "            if nums.count(candidate) > len(nums) // 3:\n",
    "                res.append(candidate)\n",
    "        \n",
    "        return res"
   ]
  },
  {
   "cell_type": "code",
   "execution_count": null,
   "metadata": {},
   "outputs": [],
   "source": []
  }
 ],
 "metadata": {
  "kernelspec": {
   "display_name": "base",
   "language": "python",
   "name": "python3"
  },
  "language_info": {
   "codemirror_mode": {
    "name": "ipython",
    "version": 3
   },
   "file_extension": ".py",
   "mimetype": "text/x-python",
   "name": "python",
   "nbconvert_exporter": "python",
   "pygments_lexer": "ipython3",
   "version": "3.9.12"
  },
  "orig_nbformat": 4
 },
 "nbformat": 4,
 "nbformat_minor": 2
}
