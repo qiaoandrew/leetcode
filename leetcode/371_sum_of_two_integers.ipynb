{
 "cells": [
  {
   "cell_type": "markdown",
   "metadata": {},
   "source": [
    "### Algorithm\n",
    "#### `add()`\n",
    "- Takes numbers `a` and `b` and returns sum\n",
    "- If either `a` or `b` is `0`, return `a` or `b` since `x + 0 = x`\n",
    "- If neither\n",
    "    - Calculate sum without carries using XOR (`^`)\n",
    "    - Calculate carry by doing `(a & b) << 1`, which checks if both digits are 1 and shifts to left by 1\n",
    "    - Call recursively until no more carry\n",
    "\n",
    "#### Negative numbers\n",
    "- If `a` is positive and `b` is negative, swaps them and calls recursively, ensuring `a` is always negative number\n"
   ]
  },
  {
   "cell_type": "code",
   "execution_count": null,
   "metadata": {},
   "outputs": [],
   "source": [
    "class Solution:\n",
    "    def get_sum(self, a, b):\n",
    "        def add(a, b):\n",
    "            if not a or not b:\n",
    "                return a or b\n",
    "            return add(a ^ b, (a & b) << 1)\n",
    "        \n",
    "        if a * b < 0:\n",
    "            if a > 0:\n",
    "                return self.get_sum(b, a)\n",
    "            if add(~a, 1) == b:\n",
    "                return 0\n",
    "            if add(~a, 1) < b:\n",
    "                return add(~add(add(~a, 1), add(~b, 1)), 1)\n",
    "\n",
    "        return add(a, b) "
   ]
  }
 ],
 "metadata": {
  "language_info": {
   "name": "python"
  },
  "orig_nbformat": 4
 },
 "nbformat": 4,
 "nbformat_minor": 2
}
